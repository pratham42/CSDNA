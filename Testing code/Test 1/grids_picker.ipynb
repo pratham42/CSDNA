{
 "cells": [
  {
   "cell_type": "code",
   "execution_count": 1,
   "metadata": {},
   "outputs": [
    {
     "name": "stderr",
     "output_type": "stream",
     "text": [
      "[ WARN:0@0.018] global loadsave.cpp:248 findDecoder imread_('Images/image1x2.png'): can't open/read file: check file path/integrity\n"
     ]
    },
    {
     "name": "stdout",
     "output_type": "stream",
     "text": [
      "Failed to load image at Images/image1x2.png\n"
     ]
    },
    {
     "ename": "error",
     "evalue": "OpenCV(4.9.0) /io/opencv/modules/imgproc/src/smooth.dispatch.cpp:617: error: (-215:Assertion failed) !_src.empty() in function 'GaussianBlur'\n",
     "output_type": "error",
     "traceback": [
      "\u001b[0;31m---------------------------------------------------------------------------\u001b[0m",
      "\u001b[0;31merror\u001b[0m                                     Traceback (most recent call last)",
      "Cell \u001b[0;32mIn[1], line 22\u001b[0m\n\u001b[1;32m     18\u001b[0m     blurred \u001b[38;5;241m=\u001b[39m cv2\u001b[38;5;241m.\u001b[39mGaussianBlur(gray, (\u001b[38;5;241m5\u001b[39m, \u001b[38;5;241m5\u001b[39m), \u001b[38;5;241m0\u001b[39m)\n\u001b[1;32m     19\u001b[0m     \u001b[38;5;66;03m# Rest of your code...\u001b[39;00m\n\u001b[1;32m     20\u001b[0m \n\u001b[1;32m     21\u001b[0m \u001b[38;5;66;03m# Step 2: Apply Gaussian Blur\u001b[39;00m\n\u001b[0;32m---> 22\u001b[0m blurred \u001b[38;5;241m=\u001b[39m \u001b[43mcv2\u001b[49m\u001b[38;5;241;43m.\u001b[39;49m\u001b[43mGaussianBlur\u001b[49m\u001b[43m(\u001b[49m\u001b[43mgray\u001b[49m\u001b[43m,\u001b[49m\u001b[43m \u001b[49m\u001b[43m(\u001b[49m\u001b[38;5;241;43m5\u001b[39;49m\u001b[43m,\u001b[49m\u001b[43m \u001b[49m\u001b[38;5;241;43m5\u001b[39;49m\u001b[43m)\u001b[49m\u001b[43m,\u001b[49m\u001b[43m \u001b[49m\u001b[38;5;241;43m0\u001b[39;49m\u001b[43m)\u001b[49m\n\u001b[1;32m     24\u001b[0m \u001b[38;5;66;03m# Step 3: Thresholding\u001b[39;00m\n\u001b[1;32m     25\u001b[0m _, binary \u001b[38;5;241m=\u001b[39m cv2\u001b[38;5;241m.\u001b[39mthreshold(blurred, \u001b[38;5;241m200\u001b[39m, \u001b[38;5;241m255\u001b[39m, cv2\u001b[38;5;241m.\u001b[39mTHRESH_BINARY_INV)\n",
      "\u001b[0;31merror\u001b[0m: OpenCV(4.9.0) /io/opencv/modules/imgproc/src/smooth.dispatch.cpp:617: error: (-215:Assertion failed) !_src.empty() in function 'GaussianBlur'\n"
     ]
    }
   ],
   "source": [
    "import cv2\n",
    "import numpy as np\n",
    "\n",
    "image_path = 'Images/image1x2.png'\n",
    "image = cv2.imread(image_path)\n",
    "\n",
    "gray = None  # Initialize gray\n",
    "\n",
    "# Check if image is loaded\n",
    "if image is None:\n",
    "    print(f\"Failed to load image at {image_path}\")\n",
    "else:\n",
    "    # Convert to grayscale\n",
    "    gray = cv2.cvtColor(image, cv2.COLOR_BGR2GRAY)\n",
    "\n",
    "# Now you can use gray outside the else block\n",
    "if gray is not None:\n",
    "    blurred = cv2.GaussianBlur(gray, (5, 5), 0)\n",
    "    # Rest of your code...\n",
    "\n",
    "# Step 3: Thresholding\n",
    "_, binary = cv2.threshold(blurred, 200, 255, cv2.THRESH_BINARY_INV)\n",
    "\n",
    "# Step 4: Find contours\n",
    "contours, _ = cv2.findContours(binary, cv2.RETR_TREE, cv2.CHAIN_APPROX_SIMPLE)\n",
    "\n",
    "# Step 5: Filter contours\n",
    "rectangles = []\n",
    "for cnt in contours:\n",
    "    approx = cv2.approxPolyDP(cnt, 0.05 * cv2.arcLength(cnt, True), True)\n",
    "    if len(approx) == 4:  # Check if the contour has 4 sides\n",
    "        (x, y, w, h) = cv2.boundingRect(approx)\n",
    "        aspect_ratio = w / float(h)\n",
    "        if 0.8 < aspect_ratio < 1.2:  # Check if contour is square-ish\n",
    "            rectangles.append(approx)"
   ]
  },
  {
   "cell_type": "code",
   "execution_count": null,
   "metadata": {},
   "outputs": [],
   "source": [
    "#making small images with each detected rectangle first 5 images for testing\n",
    "for i in range(5):\n",
    "    x, y, w, h = cv2.boundingRect(rectangles[i])\n",
    "    roi = image[y:y+h, x:x+w]\n",
    "    cv2.imwrite(f\"roi_{i}.png\", roi)\n",
    "\n",
    "#generating the full image with all the detected rectangles\n",
    "for rect in rectangles:\n",
    "    x, y, w, h = cv2.boundingRect(rect)\n",
    "    cv2.rectangle(image, (x, y), (x + w, y + h), (0, 255, 0), 2)\n",
    "\n"
   ]
  },
  {
   "cell_type": "markdown",
   "metadata": {},
   "source": []
  }
 ],
 "metadata": {
  "kernelspec": {
   "display_name": "Python 3",
   "language": "python",
   "name": "python3"
  },
  "language_info": {
   "codemirror_mode": {
    "name": "ipython",
    "version": 3
   },
   "file_extension": ".py",
   "mimetype": "text/x-python",
   "name": "python",
   "nbconvert_exporter": "python",
   "pygments_lexer": "ipython3",
   "version": "3.10.13"
  }
 },
 "nbformat": 4,
 "nbformat_minor": 2
}

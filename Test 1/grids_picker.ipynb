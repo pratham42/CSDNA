{
 "cells": [
  {
   "cell_type": "code",
   "execution_count": 1,
   "metadata": {},
   "outputs": [],
   "source": [
    "import cv2\n",
    "import numpy as np\n",
    "\n",
    "# Step 1: Read the image\n",
    "image = cv2.imread('Images/csDNA_v7_0.3nM_robot_v3_10x_20nm_grid_0.03__Rayhan_13124_T1_cropped_locs_complete_fov (1).png')\n",
    "gray = cv2.cvtColor(image, cv2.COLOR_BGR2GRAY)\n",
    "\n",
    "# Step 2: Apply Gaussian Blur\n",
    "blurred = cv2.GaussianBlur(gray, (5, 5), 0)\n",
    "\n",
    "# Step 3: Thresholding\n",
    "_, binary = cv2.threshold(blurred, 200, 255, cv2.THRESH_BINARY_INV)\n",
    "\n",
    "# Step 4: Find contours\n",
    "contours, _ = cv2.findContours(binary, cv2.RETR_TREE, cv2.CHAIN_APPROX_SIMPLE)\n",
    "\n",
    "# Step 5: Filter contours\n",
    "rectangles = []\n",
    "for cnt in contours:\n",
    "    approx = cv2.approxPolyDP(cnt, 0.05 * cv2.arcLength(cnt, True), True)\n",
    "    if len(approx) == 4:  # Check if the contour has 4 sides\n",
    "        (x, y, w, h) = cv2.boundingRect(approx)\n",
    "        aspect_ratio = w / float(h)\n",
    "        if 0.8 < aspect_ratio < 1.2:  # Check if contour is square-ish\n",
    "            rectangles.append(approx)"
   ]
  },
  {
   "cell_type": "code",
   "execution_count": 2,
   "metadata": {},
   "outputs": [],
   "source": [
    "#making small images with each detected rectangle first 5 images for testing\n",
    "for i in range(5):\n",
    "    x, y, w, h = cv2.boundingRect(rectangles[i])\n",
    "    roi = image[y:y+h, x:x+w]\n",
    "    cv2.imwrite(f\"roi_{i}.png\", roi)\n"
   ]
  }
 ],
 "metadata": {
  "kernelspec": {
   "display_name": "Python 3",
   "language": "python",
   "name": "python3"
  },
  "language_info": {
   "codemirror_mode": {
    "name": "ipython",
    "version": 3
   },
   "file_extension": ".py",
   "mimetype": "text/x-python",
   "name": "python",
   "nbconvert_exporter": "python",
   "pygments_lexer": "ipython3",
   "version": "3.10.13"
  }
 },
 "nbformat": 4,
 "nbformat_minor": 2
}
